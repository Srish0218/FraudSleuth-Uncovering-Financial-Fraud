{
 "cells": [
  {
   "cell_type": "code",
   "execution_count": 2,
   "id": "initial_id",
   "metadata": {
    "ExecuteTime": {
     "end_time": "2024-05-18T11:25:36.929553400Z",
     "start_time": "2024-05-18T11:25:36.897136300Z"
    }
   },
   "outputs": [],
   "source": [
    "import pandas as pd\n",
    "import numpy as np"
   ]
  },
  {
   "cell_type": "code",
   "execution_count": 3,
   "id": "2389deafbe72138b",
   "metadata": {
    "collapsed": false,
    "ExecuteTime": {
     "end_time": "2024-05-18T11:25:51.080732200Z",
     "start_time": "2024-05-18T11:25:37.321188900Z"
    }
   },
   "outputs": [
    {
     "data": {
      "text/plain": "   step      type    amount     nameOrig  oldbalanceOrg  newbalanceOrig  \\\n0     1   PAYMENT   9839.64  C1231006815       170136.0       160296.36   \n1     1   PAYMENT   1864.28  C1666544295        21249.0        19384.72   \n2     1  TRANSFER    181.00  C1305486145          181.0            0.00   \n3     1  CASH_OUT    181.00   C840083671          181.0            0.00   \n4     1   PAYMENT  11668.14  C2048537720        41554.0        29885.86   \n\n      nameDest  oldbalanceDest  newbalanceDest  isFraud  isFlaggedFraud  \n0  M1979787155             0.0             0.0        0               0  \n1  M2044282225             0.0             0.0        0               0  \n2   C553264065             0.0             0.0        1               0  \n3    C38997010         21182.0             0.0        1               0  \n4  M1230701703             0.0             0.0        0               0  ",
      "text/html": "<div>\n<style scoped>\n    .dataframe tbody tr th:only-of-type {\n        vertical-align: middle;\n    }\n\n    .dataframe tbody tr th {\n        vertical-align: top;\n    }\n\n    .dataframe thead th {\n        text-align: right;\n    }\n</style>\n<table border=\"1\" class=\"dataframe\">\n  <thead>\n    <tr style=\"text-align: right;\">\n      <th></th>\n      <th>step</th>\n      <th>type</th>\n      <th>amount</th>\n      <th>nameOrig</th>\n      <th>oldbalanceOrg</th>\n      <th>newbalanceOrig</th>\n      <th>nameDest</th>\n      <th>oldbalanceDest</th>\n      <th>newbalanceDest</th>\n      <th>isFraud</th>\n      <th>isFlaggedFraud</th>\n    </tr>\n  </thead>\n  <tbody>\n    <tr>\n      <th>0</th>\n      <td>1</td>\n      <td>PAYMENT</td>\n      <td>9839.64</td>\n      <td>C1231006815</td>\n      <td>170136.0</td>\n      <td>160296.36</td>\n      <td>M1979787155</td>\n      <td>0.0</td>\n      <td>0.0</td>\n      <td>0</td>\n      <td>0</td>\n    </tr>\n    <tr>\n      <th>1</th>\n      <td>1</td>\n      <td>PAYMENT</td>\n      <td>1864.28</td>\n      <td>C1666544295</td>\n      <td>21249.0</td>\n      <td>19384.72</td>\n      <td>M2044282225</td>\n      <td>0.0</td>\n      <td>0.0</td>\n      <td>0</td>\n      <td>0</td>\n    </tr>\n    <tr>\n      <th>2</th>\n      <td>1</td>\n      <td>TRANSFER</td>\n      <td>181.00</td>\n      <td>C1305486145</td>\n      <td>181.0</td>\n      <td>0.00</td>\n      <td>C553264065</td>\n      <td>0.0</td>\n      <td>0.0</td>\n      <td>1</td>\n      <td>0</td>\n    </tr>\n    <tr>\n      <th>3</th>\n      <td>1</td>\n      <td>CASH_OUT</td>\n      <td>181.00</td>\n      <td>C840083671</td>\n      <td>181.0</td>\n      <td>0.00</td>\n      <td>C38997010</td>\n      <td>21182.0</td>\n      <td>0.0</td>\n      <td>1</td>\n      <td>0</td>\n    </tr>\n    <tr>\n      <th>4</th>\n      <td>1</td>\n      <td>PAYMENT</td>\n      <td>11668.14</td>\n      <td>C2048537720</td>\n      <td>41554.0</td>\n      <td>29885.86</td>\n      <td>M1230701703</td>\n      <td>0.0</td>\n      <td>0.0</td>\n      <td>0</td>\n      <td>0</td>\n    </tr>\n  </tbody>\n</table>\n</div>"
     },
     "execution_count": 3,
     "metadata": {},
     "output_type": "execute_result"
    }
   ],
   "source": [
    "df = pd.read_csv('Fraud.csv')                                                             \n",
    "df.head()   "
   ]
  },
  {
   "cell_type": "code",
   "execution_count": 4,
   "id": "1709d63d72f54bb",
   "metadata": {
    "collapsed": false,
    "ExecuteTime": {
     "end_time": "2024-05-18T11:25:56.906803500Z",
     "start_time": "2024-05-18T11:25:56.855204Z"
    }
   },
   "outputs": [
    {
     "data": {
      "text/plain": "         step      type      amount     nameOrig  oldbalanceOrg  \\\n6362615   743  CASH_OUT   339682.13   C786484425      339682.13   \n6362616   743  TRANSFER  6311409.28  C1529008245     6311409.28   \n6362617   743  CASH_OUT  6311409.28  C1162922333     6311409.28   \n6362618   743  TRANSFER   850002.52  C1685995037      850002.52   \n6362619   743  CASH_OUT   850002.52  C1280323807      850002.52   \n\n         newbalanceOrig     nameDest  oldbalanceDest  newbalanceDest  isFraud  \\\n6362615             0.0   C776919290            0.00       339682.13        1   \n6362616             0.0  C1881841831            0.00            0.00        1   \n6362617             0.0  C1365125890        68488.84      6379898.11        1   \n6362618             0.0  C2080388513            0.00            0.00        1   \n6362619             0.0   C873221189      6510099.11      7360101.63        1   \n\n         isFlaggedFraud  \n6362615               0  \n6362616               0  \n6362617               0  \n6362618               0  \n6362619               0  ",
      "text/html": "<div>\n<style scoped>\n    .dataframe tbody tr th:only-of-type {\n        vertical-align: middle;\n    }\n\n    .dataframe tbody tr th {\n        vertical-align: top;\n    }\n\n    .dataframe thead th {\n        text-align: right;\n    }\n</style>\n<table border=\"1\" class=\"dataframe\">\n  <thead>\n    <tr style=\"text-align: right;\">\n      <th></th>\n      <th>step</th>\n      <th>type</th>\n      <th>amount</th>\n      <th>nameOrig</th>\n      <th>oldbalanceOrg</th>\n      <th>newbalanceOrig</th>\n      <th>nameDest</th>\n      <th>oldbalanceDest</th>\n      <th>newbalanceDest</th>\n      <th>isFraud</th>\n      <th>isFlaggedFraud</th>\n    </tr>\n  </thead>\n  <tbody>\n    <tr>\n      <th>6362615</th>\n      <td>743</td>\n      <td>CASH_OUT</td>\n      <td>339682.13</td>\n      <td>C786484425</td>\n      <td>339682.13</td>\n      <td>0.0</td>\n      <td>C776919290</td>\n      <td>0.00</td>\n      <td>339682.13</td>\n      <td>1</td>\n      <td>0</td>\n    </tr>\n    <tr>\n      <th>6362616</th>\n      <td>743</td>\n      <td>TRANSFER</td>\n      <td>6311409.28</td>\n      <td>C1529008245</td>\n      <td>6311409.28</td>\n      <td>0.0</td>\n      <td>C1881841831</td>\n      <td>0.00</td>\n      <td>0.00</td>\n      <td>1</td>\n      <td>0</td>\n    </tr>\n    <tr>\n      <th>6362617</th>\n      <td>743</td>\n      <td>CASH_OUT</td>\n      <td>6311409.28</td>\n      <td>C1162922333</td>\n      <td>6311409.28</td>\n      <td>0.0</td>\n      <td>C1365125890</td>\n      <td>68488.84</td>\n      <td>6379898.11</td>\n      <td>1</td>\n      <td>0</td>\n    </tr>\n    <tr>\n      <th>6362618</th>\n      <td>743</td>\n      <td>TRANSFER</td>\n      <td>850002.52</td>\n      <td>C1685995037</td>\n      <td>850002.52</td>\n      <td>0.0</td>\n      <td>C2080388513</td>\n      <td>0.00</td>\n      <td>0.00</td>\n      <td>1</td>\n      <td>0</td>\n    </tr>\n    <tr>\n      <th>6362619</th>\n      <td>743</td>\n      <td>CASH_OUT</td>\n      <td>850002.52</td>\n      <td>C1280323807</td>\n      <td>850002.52</td>\n      <td>0.0</td>\n      <td>C873221189</td>\n      <td>6510099.11</td>\n      <td>7360101.63</td>\n      <td>1</td>\n      <td>0</td>\n    </tr>\n  </tbody>\n</table>\n</div>"
     },
     "execution_count": 4,
     "metadata": {},
     "output_type": "execute_result"
    }
   ],
   "source": [
    "df.tail()"
   ]
  },
  {
   "cell_type": "code",
   "execution_count": 5,
   "id": "b397047508d8575a",
   "metadata": {
    "collapsed": false,
    "ExecuteTime": {
     "end_time": "2024-05-18T11:25:57.239860400Z",
     "start_time": "2024-05-18T11:25:57.219135900Z"
    }
   },
   "outputs": [
    {
     "data": {
      "text/plain": "(6362620, 11)"
     },
     "execution_count": 5,
     "metadata": {},
     "output_type": "execute_result"
    }
   ],
   "source": [
    "df.shape"
   ]
  },
  {
   "cell_type": "markdown",
   "id": "bd6cbcd1ca3b3659",
   "metadata": {
    "collapsed": false
   },
   "source": [
    "# Data Cleaning"
   ]
  },
  {
   "cell_type": "markdown",
   "id": "4a29f03ff427a192",
   "metadata": {
    "collapsed": false
   },
   "source": [
    "## 1. Missing values\n",
    "There are several strategies for handling missing values, including removing rows or columns with missing values, filling missing values with a specific value, or using more advanced techniques like interpolation or modeling."
   ]
  },
  {
   "cell_type": "code",
   "execution_count": 6,
   "id": "877dfb731f81bd56",
   "metadata": {
    "collapsed": false,
    "ExecuteTime": {
     "end_time": "2024-05-18T11:26:02.493957700Z",
     "start_time": "2024-05-18T11:25:58.268006Z"
    }
   },
   "outputs": [
    {
     "name": "stdout",
     "output_type": "stream",
     "text": [
      "step              0\n",
      "type              0\n",
      "amount            0\n",
      "nameOrig          0\n",
      "oldbalanceOrg     0\n",
      "newbalanceOrig    0\n",
      "nameDest          0\n",
      "oldbalanceDest    0\n",
      "newbalanceDest    0\n",
      "isFraud           0\n",
      "isFlaggedFraud    0\n",
      "dtype: int64\n",
      "step              0\n",
      "type              0\n",
      "amount            0\n",
      "nameOrig          0\n",
      "oldbalanceOrg     0\n",
      "newbalanceOrig    0\n",
      "nameDest          0\n",
      "oldbalanceDest    0\n",
      "newbalanceDest    0\n",
      "isFraud           0\n",
      "isFlaggedFraud    0\n",
      "dtype: int64\n"
     ]
    }
   ],
   "source": [
    "# Check for missing values\n",
    "print(df.isnull().sum())\n",
    "\n",
    "# Drop rows with any missing values\n",
    "df = df.dropna()\n",
    "\n",
    "# Verify if there are any missing values left\n",
    "print(df.isnull().sum())"
   ]
  },
  {
   "cell_type": "markdown",
   "id": "efc1f503fa5f9592",
   "metadata": {
    "collapsed": false
   },
   "source": [
    "## 2. Handling Outliers\n",
    "Outliers can be identified and treated in various ways. One common method is to use the Interquartile Range (IQR)"
   ]
  },
  {
   "cell_type": "code",
   "execution_count": 7,
   "id": "ca0ae955b405d37a",
   "metadata": {
    "collapsed": false,
    "ExecuteTime": {
     "end_time": "2024-05-18T11:26:05.598137700Z",
     "start_time": "2024-05-18T11:26:02.490880100Z"
    }
   },
   "outputs": [
    {
     "name": "stdout",
     "output_type": "stream",
     "text": [
      "             amount  oldbalanceOrg  newbalanceOrig  oldbalanceDest  \\\n",
      "count  6.362620e+06   6.362620e+06    6.362620e+06    6.362620e+06   \n",
      "mean   1.322667e+05   7.221247e+04    8.872275e+04    6.003940e+05   \n",
      "std    1.462368e+05   1.024141e+05    1.393412e+05    8.369711e+05   \n",
      "min    0.000000e+00   0.000000e+00    0.000000e+00    0.000000e+00   \n",
      "25%    1.338957e+04   0.000000e+00    0.000000e+00    0.000000e+00   \n",
      "50%    7.487194e+04   1.420800e+04    0.000000e+00    1.327057e+05   \n",
      "75%    2.087215e+05   1.073152e+05    1.442584e+05    9.430367e+05   \n",
      "max    5.017193e+05   2.682879e+05    3.606460e+05    2.357592e+06   \n",
      "\n",
      "       newbalanceDest  \n",
      "count    6.362620e+06  \n",
      "mean     7.150404e+05  \n",
      "std      9.673665e+05  \n",
      "min      0.000000e+00  \n",
      "25%      0.000000e+00  \n",
      "50%      2.146614e+05  \n",
      "75%      1.111909e+06  \n",
      "max      2.779773e+06  \n"
     ]
    }
   ],
   "source": [
    "# Function to detect and cap outliers using IQR\n",
    "def cap_outliers(df, feature):\n",
    "    Q1 = df[feature].quantile(0.25)\n",
    "    Q3 = df[feature].quantile(0.75)\n",
    "    IQR = Q3 - Q1\n",
    "    lower_bound = Q1 - 1.5 * IQR\n",
    "    upper_bound = Q3 + 1.5 * IQR\n",
    "    df[feature] = np.where(df[feature] < lower_bound, lower_bound, df[feature])\n",
    "    df[feature] = np.where(df[feature] > upper_bound, upper_bound, df[feature])\n",
    "\n",
    "# List of numerical features\n",
    "features = ['amount', 'oldbalanceOrg', 'newbalanceOrig', 'oldbalanceDest', 'newbalanceDest']\n",
    "\n",
    "# Cap outliers in numerical features\n",
    "for feature in features:\n",
    "    cap_outliers(df, feature)\n",
    "\n",
    "# Verify by checking the descriptive statistics\n",
    "print(df[features].describe())\n"
   ]
  },
  {
   "cell_type": "markdown",
   "id": "d667b09016d62926",
   "metadata": {
    "collapsed": false
   },
   "source": [
    "## 3. Multi-collinearity\n",
    "To handle multi-collinearity, we calculate the Variance Inflation Factor (VIF):"
   ]
  },
  {
   "cell_type": "code",
   "execution_count": 8,
   "id": "621950ae92bb1446",
   "metadata": {
    "collapsed": false,
    "ExecuteTime": {
     "end_time": "2024-05-18T11:27:11.559253300Z",
     "start_time": "2024-05-18T11:26:07.630396500Z"
    }
   },
   "outputs": [
    {
     "name": "stdout",
     "output_type": "stream",
     "text": [
      "          feature           VIF\n",
      "0            step  2.736941e+00\n",
      "1            type  2.176384e+00\n",
      "2          amount  2.695822e+00\n",
      "3   oldbalanceOrg  3.890799e+11\n",
      "4  newbalanceOrig  3.745197e+10\n",
      "5  oldbalanceDest  5.059741e+10\n",
      "6  newbalanceDest  6.573638e+11\n",
      "7  isFlaggedFraud  1.000039e+00\n",
      "8       deltaOrig  3.580267e+10\n",
      "9       deltaDest  1.224869e+11\n"
     ]
    }
   ],
   "source": [
    "from sklearn.preprocessing import LabelEncoder\n",
    "from statsmodels.stats.outliers_influence import variance_inflation_factor\n",
    "# Feature Engineering\n",
    "df['deltaOrig'] = df['newbalanceOrig'] - df['oldbalanceOrg']\n",
    "df['deltaDest'] = df['newbalanceDest'] - df['oldbalanceDest']\n",
    "\n",
    "# Encode categorical variable\n",
    "label_encoder = LabelEncoder()\n",
    "df['type'] = label_encoder.fit_transform(df['type'])\n",
    "\n",
    "# Drop non-numeric columns and the target variable\n",
    "X = df.drop(columns=['nameOrig', 'nameDest', 'isFraud'])\n",
    "\n",
    "# Ensure all columns are numeric\n",
    "\n",
    "# Calculate VIF for each feature\n",
    "vif_data = pd.DataFrame()\n",
    "vif_data[\"feature\"] = X.columns\n",
    "vif_data[\"VIF\"] = [variance_inflation_factor(X.values.astype(float), i) for i in range(len(X.columns))]\n",
    "\n",
    "print(vif_data)"
   ]
  },
  {
   "cell_type": "markdown",
   "id": "5254ff39fee6b60d",
   "metadata": {
    "collapsed": false
   },
   "source": [
    "# Fraud Detection Model"
   ]
  },
  {
   "cell_type": "code",
   "execution_count": 9,
   "id": "a73913a093bf668c",
   "metadata": {
    "collapsed": false,
    "ExecuteTime": {
     "end_time": "2024-05-18T11:27:19.288184300Z",
     "start_time": "2024-05-18T11:27:19.139316100Z"
    }
   },
   "outputs": [],
   "source": [
    "# Feature Engineering\n",
    "df['deltaOrig'] = df['newbalanceOrig'] - df['oldbalanceOrg']\n",
    "df['deltaDest'] = df['newbalanceDest'] - df['oldbalanceDest']"
   ]
  },
  {
   "cell_type": "code",
   "execution_count": 10,
   "id": "34b747dec718470a",
   "metadata": {
    "collapsed": false,
    "ExecuteTime": {
     "end_time": "2024-05-18T11:27:20.625767200Z",
     "start_time": "2024-05-18T11:27:19.905671900Z"
    }
   },
   "outputs": [
    {
     "name": "stdout",
     "output_type": "stream",
     "text": [
      "Data types of columns:\n",
      "step                int64\n",
      "type                int64\n",
      "amount            float64\n",
      "nameOrig           object\n",
      "oldbalanceOrg     float64\n",
      "newbalanceOrig    float64\n",
      "nameDest           object\n",
      "oldbalanceDest    float64\n",
      "newbalanceDest    float64\n",
      "isFraud             int64\n",
      "isFlaggedFraud      int64\n",
      "deltaOrig         float64\n",
      "deltaDest         float64\n",
      "dtype: object\n"
     ]
    }
   ],
   "source": [
    "# Label Encoding\n",
    "from sklearn.preprocessing import LabelEncoder\n",
    "label_encoder = LabelEncoder()\n",
    "df['type'] = label_encoder.fit_transform(df['type'])\n",
    "\n",
    "# Ensure all columns are numeric\n",
    "print(\"Data types of columns:\")\n",
    "print(df.dtypes)\n"
   ]
  },
  {
   "cell_type": "code",
   "execution_count": 11,
   "id": "488240edd08b0218",
   "metadata": {
    "collapsed": false,
    "ExecuteTime": {
     "end_time": "2024-05-18T11:27:24.572594100Z",
     "start_time": "2024-05-18T11:27:21.392381700Z"
    }
   },
   "outputs": [],
   "source": [
    "# Dropping non-numeric or non-relevant columns (if any)\n",
    "# Here, we assume 'nameOrig' and 'nameDest' are non-numeric identifiers that should be dropped\n",
    "df = df.drop(columns=['nameOrig', 'nameDest'])"
   ]
  },
  {
   "cell_type": "code",
   "execution_count": 12,
   "id": "49a28f3ab25c8946",
   "metadata": {
    "collapsed": false,
    "ExecuteTime": {
     "end_time": "2024-05-18T11:27:27.178512700Z",
     "start_time": "2024-05-18T11:27:24.572594100Z"
    }
   },
   "outputs": [],
   "source": [
    "# Splitting the data\n",
    "X, y = df.drop(columns='isFraud'), df['isFraud']\n",
    "from sklearn.model_selection import train_test_split\n",
    "X_train, X_test, y_train, y_test = train_test_split(X, y, test_size=0.40, random_state=42)"
   ]
  },
  {
   "cell_type": "code",
   "execution_count": 13,
   "id": "12683972649b227c",
   "metadata": {
    "collapsed": false,
    "ExecuteTime": {
     "end_time": "2024-05-18T11:27:35.827701Z",
     "start_time": "2024-05-18T11:27:34.140480500Z"
    }
   },
   "outputs": [
    {
     "name": "stdout",
     "output_type": "stream",
     "text": [
      "First few rows of X_train after scaling:\n",
      "[[-1.40093908e+00 -5.29012669e-01 -7.06253941e-01 -6.55934249e-01\n",
      "  -6.36697989e-01 -7.17218525e-01 -7.09178442e-01 -1.35411578e-03\n",
      "  -2.93217459e-01 -3.20460247e-01]\n",
      " [ 6.22731006e-01 -5.29012669e-01 -1.29670966e-01 -6.97693318e-01\n",
      "  -6.36697989e-01  9.51420029e-01  8.21713443e-01 -1.35411578e-03\n",
      "  -2.34993442e-01 -5.25148649e-03]\n",
      " [-1.42904561e+00  9.52314690e-01 -8.55749551e-01 -7.05172262e-01\n",
      "  -6.36697989e-01 -7.17218525e-01 -7.39139783e-01 -1.35411578e-03\n",
      "  -2.24565666e-01 -4.28775964e-01]\n",
      " [-2.34518128e-01  1.69297837e+00  1.69740321e+00  1.53707590e+00\n",
      "  -6.36697989e-01 -5.68590100e-01 -2.17107006e-01 -1.35411578e-03\n",
      "  -3.35089727e+00  9.93580964e-01]\n",
      " [ 1.08648873e+00  9.52314690e-01 -7.14105641e-01  1.91429334e+00\n",
      "   1.95146145e+00 -7.17218525e-01 -7.39139783e-01 -1.35411578e-03\n",
      "   1.03273125e+00 -4.28775964e-01]]\n"
     ]
    }
   ],
   "source": [
    "# Feature Scaling\n",
    "from sklearn.preprocessing import StandardScaler\n",
    "sc = StandardScaler()\n",
    "X_train = sc.fit_transform(X_train)\n",
    "X_test = sc.transform(X_test)\n",
    "\n",
    "# Confirming the transformation\n",
    "print(\"First few rows of X_train after scaling:\")\n",
    "print(X_train[:5])"
   ]
  },
  {
   "cell_type": "markdown",
   "id": "f1bc10113e231d4c",
   "metadata": {
    "collapsed": false
   },
   "source": [
    "# Gaussian Naive Bayes\n"
   ]
  },
  {
   "cell_type": "code",
   "execution_count": 14,
   "id": "1c96812a1729d0b7",
   "metadata": {
    "collapsed": false,
    "ExecuteTime": {
     "end_time": "2024-05-18T11:27:35.841268200Z",
     "start_time": "2024-05-18T11:27:35.818732Z"
    }
   },
   "outputs": [],
   "source": [
    "#Import Gaussian Naive Bayes model\n",
    "from sklearn.naive_bayes import GaussianNB\n",
    "from sklearn import metrics #Import scikit-learn metrics module for accuracy calculation\n",
    "#Create a Gaussian Classifier\n",
    "gnb = GaussianNB()"
   ]
  },
  {
   "cell_type": "code",
   "execution_count": 15,
   "id": "d7ef761748a36949",
   "metadata": {
    "collapsed": false,
    "ExecuteTime": {
     "end_time": "2024-05-18T11:27:39.259006800Z",
     "start_time": "2024-05-18T11:27:35.972786200Z"
    }
   },
   "outputs": [
    {
     "name": "stdout",
     "output_type": "stream",
     "text": [
      "Accuracy: 0.9958444791611003\n"
     ]
    }
   ],
   "source": [
    "from sklearn.metrics import accuracy_score, classification_report, confusion_matrix\n",
    "\n",
    "#Train the model using the training sets\n",
    "gnb.fit(X_train, y_train)\n",
    "#Predict the response for test dataset\n",
    "y_pred = gnb.predict(X_test)\n",
    "print(\"Accuracy:\",metrics.accuracy_score(y_test, y_pred))"
   ]
  },
  {
   "cell_type": "code",
   "execution_count": 16,
   "id": "95f9523930bb94d3",
   "metadata": {
    "collapsed": false,
    "ExecuteTime": {
     "end_time": "2024-05-18T11:27:44.264563100Z",
     "start_time": "2024-05-18T11:27:39.257210200Z"
    }
   },
   "outputs": [
    {
     "name": "stdout",
     "output_type": "stream",
     "text": [
      "Classification Report for Gaussian Naive Bayes\n",
      "              precision    recall  f1-score   support\n",
      "\n",
      "           0       1.00      1.00      1.00   2541782\n",
      "           1       0.05      0.12      0.07      3266\n",
      "\n",
      "    accuracy                           1.00   2545048\n",
      "   macro avg       0.52      0.56      0.53   2545048\n",
      "weighted avg       1.00      1.00      1.00   2545048\n"
     ]
    }
   ],
   "source": [
    "print(\"Classification Report for Gaussian Naive Bayes\")\n",
    "print(classification_report(y_test, y_pred))"
   ]
  },
  {
   "cell_type": "code",
   "execution_count": 17,
   "id": "5f79770313c1e26a",
   "metadata": {
    "collapsed": false,
    "ExecuteTime": {
     "end_time": "2024-05-18T11:27:44.698260400Z",
     "start_time": "2024-05-18T11:27:44.264563100Z"
    }
   },
   "outputs": [
    {
     "name": "stdout",
     "output_type": "stream",
     "text": [
      "Confusion Matrix for Gaussian Naive Bayes\n",
      "[[2534089    7693]\n",
      " [   2883     383]]\n"
     ]
    }
   ],
   "source": [
    "print(\"Confusion Matrix for Gaussian Naive Bayes\")\n",
    "print(confusion_matrix(y_test, y_pred))"
   ]
  },
  {
   "cell_type": "markdown",
   "id": "ae556d117cabd1bf",
   "metadata": {
    "collapsed": false
   },
   "source": [
    "# Logistic Regression"
   ]
  },
  {
   "cell_type": "code",
   "execution_count": 18,
   "id": "65b66b11296c61f7",
   "metadata": {
    "collapsed": false,
    "ExecuteTime": {
     "end_time": "2024-05-18T11:27:49.393693900Z",
     "start_time": "2024-05-18T11:27:44.703593500Z"
    }
   },
   "outputs": [
    {
     "name": "stdout",
     "output_type": "stream",
     "text": [
      "Logistic Regression Accuracy: 0.9988640685755239\n"
     ]
    }
   ],
   "source": [
    "from sklearn.linear_model import LogisticRegression\n",
    "classifier = LogisticRegression(random_state=0)\n",
    "classifier.fit(X_train, y_train)\n",
    "y_pred_lr = classifier.predict(X_test)\n",
    "print(\"Logistic Regression Accuracy:\", accuracy_score(y_test, y_pred_lr))"
   ]
  },
  {
   "cell_type": "code",
   "execution_count": 19,
   "id": "2b2a9f0c762881da",
   "metadata": {
    "collapsed": false,
    "ExecuteTime": {
     "end_time": "2024-05-18T11:27:59.079503700Z",
     "start_time": "2024-05-18T11:27:52.601161400Z"
    }
   },
   "outputs": [
    {
     "name": "stdout",
     "output_type": "stream",
     "text": [
      "Classification Report for  Logistic Regression\n",
      "              precision    recall  f1-score   support\n",
      "\n",
      "           0       1.00      1.00      1.00   2541782\n",
      "           1       0.79      0.16      0.26      3266\n",
      "\n",
      "    accuracy                           1.00   2545048\n",
      "   macro avg       0.90      0.58      0.63   2545048\n",
      "weighted avg       1.00      1.00      1.00   2545048\n"
     ]
    }
   ],
   "source": [
    "print(\"Classification Report for  Logistic Regression\")\n",
    "print(classification_report(y_test, y_pred_lr))"
   ]
  },
  {
   "cell_type": "code",
   "execution_count": 20,
   "id": "a39e8a17ddfeffa7",
   "metadata": {
    "collapsed": false,
    "ExecuteTime": {
     "end_time": "2024-05-18T11:27:59.672570900Z",
     "start_time": "2024-05-18T11:27:59.068476700Z"
    }
   },
   "outputs": [
    {
     "name": "stdout",
     "output_type": "stream",
     "text": [
      "Confusion Matrix for Logistic Regression\n",
      "[[2534089    7693]\n",
      " [   2883     383]]\n"
     ]
    }
   ],
   "source": [
    "print(\"Confusion Matrix for Logistic Regression\")\n",
    "print(confusion_matrix(y_test, y_pred))"
   ]
  },
  {
   "cell_type": "markdown",
   "id": "77b7e2dca7915fdb",
   "metadata": {
    "collapsed": false
   },
   "source": [
    "## Model Interpretation: Feature Importance (for Logistic Regression)\n"
   ]
  },
  {
   "cell_type": "code",
   "execution_count": 21,
   "id": "825c739107b28f13",
   "metadata": {
    "collapsed": false,
    "ExecuteTime": {
     "end_time": "2024-05-18T11:28:01.910690Z",
     "start_time": "2024-05-18T11:27:59.664811400Z"
    }
   },
   "outputs": [
    {
     "data": {
      "text/plain": "<Figure size 1000x800 with 1 Axes>",
      "image/png": "[encoded data removed]"
     },
     "metadata": {},
     "output_type": "display_data"
    }
   ],
   "source": [
    "import matplotlib.pyplot as plt\n",
    "\n",
    "feature_importance = np.abs(classifier.coef_[0])\n",
    "feature_names = X.columns\n",
    "sorted_idx = np.argsort(feature_importance)\n",
    "\n",
    "plt.figure(figsize=(10, 8))\n",
    "plt.barh(range(len(sorted_idx)), feature_importance[sorted_idx], align='center')\n",
    "plt.yticks(range(len(sorted_idx)), [feature_names[i] for i in sorted_idx])\n",
    "plt.title('Feature Importance (Logistic Regression)')\n",
    "plt.show()"
   ]
  },
  {
   "cell_type": "markdown",
   "id": "8be9e3dd4b10587b",
   "metadata": {
    "collapsed": false
   },
   "source": [
    "## 3. How Did You Select Variables to be Included in the Model?\n",
    "Variables were selected based on domain knowledge and exploratory data analysis:\n",
    "\n",
    "Transaction Amount: Large amounts might indicate fraud.\n",
    "Balance Changes: Sudden large changes in balances could be a sign of fraud.\n",
    "Transaction Type: Certain types of transactions might be more prone to fraud.\n",
    "Existing Features: Variables like old and new balances for both origin and destination accounts."
   ]
  },
  {
   "cell_type": "markdown",
   "id": "9a71e485b3f9dda2",
   "metadata": {
    "collapsed": false
   },
   "source": [
    "# 4. Demonstrate the Performance of the Model by Using Best Set of Tools\n",
    "We evaluate model performance using accuracy, precision, recall, F1-score, and confusion matrices:"
   ]
  },
  {
   "cell_type": "code",
   "execution_count": 22,
   "id": "cf01758315b23cdf",
   "metadata": {
    "collapsed": false,
    "ExecuteTime": {
     "end_time": "2024-05-18T11:28:18.024955600Z",
     "start_time": "2024-05-18T11:28:01.893532100Z"
    }
   },
   "outputs": [
    {
     "name": "stdout",
     "output_type": "stream",
     "text": [
      "GaussianNB Accuracy: 0.9958444791611003\n",
      "              precision    recall  f1-score   support\n",
      "\n",
      "           0       1.00      1.00      1.00   2541782\n",
      "           1       0.05      0.12      0.07      3266\n",
      "\n",
      "    accuracy                           1.00   2545048\n",
      "   macro avg       0.52      0.56      0.53   2545048\n",
      "weighted avg       1.00      1.00      1.00   2545048\n",
      "[[2534089    7693]\n",
      " [   2883     383]]\n",
      "Logistic Regression Accuracy: 0.9988640685755239\n",
      "              precision    recall  f1-score   support\n",
      "\n",
      "           0       1.00      1.00      1.00   2541782\n",
      "           1       0.79      0.16      0.26      3266\n",
      "\n",
      "    accuracy                           1.00   2545048\n",
      "   macro avg       0.90      0.58      0.63   2545048\n",
      "weighted avg       1.00      1.00      1.00   2545048\n",
      "[[2541650     132]\n",
      " [   2759     507]]\n"
     ]
    }
   ],
   "source": [
    "# Performance metrics for GaussianNB\n",
    "print(\"GaussianNB Accuracy:\", accuracy_score(y_test, y_pred))\n",
    "print(classification_report(y_test, y_pred))\n",
    "print(confusion_matrix(y_test, y_pred))\n",
    "\n",
    "# Performance metrics for Logistic Regression\n",
    "print(\"Logistic Regression Accuracy:\", accuracy_score(y_test, y_pred_lr))\n",
    "print(classification_report(y_test, y_pred_lr))\n",
    "print(confusion_matrix(y_test, y_pred_lr))\n"
   ]
  },
  {
   "cell_type": "markdown",
   "id": "4689ce1b8d10cf73",
   "metadata": {
    "collapsed": false
   },
   "source": [
    "## Fraud Detection Model Explanation\n",
    "\n",
    "### Introduction\n",
    " I used two classification algorithms: Gaussian Naive Bayes and Logistic Regression. These models were chosen for their simplicity, efficiency, and interpretability, making them suitable for initial fraud detection efforts.\n",
    "\n",
    "### Data Preprocessing\n",
    "Proper data preprocessing ensures the model's effectiveness. Here are the key steps:\n",
    "\n",
    "1. **Feature Engineering**:\n",
    "    Feature engineering involves creating new features from existing data to enhance the model's predictive power. I created two new features, `deltaOrig` and `deltaDest`, which represent the change in balance for the origin and destination accounts, respectively:\n",
    "\n",
    "    These features help the model understand the impact of each transaction on account balances, which is crucial for identifying unusual or suspicious activities.\n",
    "\n",
    "2. **Encoding Categorical Variables**:\n",
    "    The `type` column indicates the type of transaction and is categorical. Machine learning algorithms require numerical input, so I converted this column to numerical format using `LabelEncoder`:\n",
    "\n",
    "    Encoding ensures that the model can process the transaction types effectively.\n",
    "\n",
    "3. **Dropping Non-Numeric Columns**:\n",
    "    The dataset includes non-numeric identifiers (`nameOrig` and `nameDest`) which are not relevant for prediction. These columns were dropped:\n",
    "\n",
    "    Removing these columns reduces noise and focuses the model on the most relevant features.\n",
    "\n",
    "### Splitting the Data\n",
    "To train and evaluate the models, I split the dataset into training and testing sets. The training set comprises 60% of the data, while the testing set comprises 40%:\n",
    "\n",
    "Splitting the data ensures that the models are trained on one portion of the data and tested on another, providing an unbiased evaluation of model performance.\n",
    "\n",
    "### Feature Scaling\n",
    "Feature scaling standardizes the range of features, ensuring each feature contributes equally to the model's calculations. I used `StandardScaler` to achieve this:\n",
    "\n",
    "Scaling is essential for algorithms like Logistic Regression, which rely on the magnitude of features to make predictions.\n",
    "\n",
    "### Model Training and Evaluation\n",
    "I trained two models: Gaussian Naive Bayes and Logistic Regression. Here’s why these models were chosen and their respective evaluations:\n",
    "\n",
    "#### Gaussian Naive Bayes\n",
    "Gaussian Naive Bayes is a probabilistic classifier based on Bayes' Theorem, assuming the features follow a Gaussian (normal) distribution. It is simple, fast, and effective for binary classification problems.\n",
    "\n",
    "Results:\n",
    "- **Accuracy**: [Insert Accuracy]\n",
    "- **Classification Report**: [Insert detailed report]\n",
    "- **Confusion Matrix**: [Insert matrix]\n",
    "\n",
    "#### Logistic Regression\n",
    "Logistic Regression is a linear model for binary classification. It models the probability of the default class and is highly interpretable, which is valuable for understanding fraud patterns.\n",
    "\n",
    "Results:\n",
    "- **Accuracy**: [Insert Accuracy]\n",
    "- **Classification Report**: [Insert detailed report]\n",
    "- **Confusion Matrix**: [Insert matrix]\n",
    "\n",
    "### Result\n",
    "Both models offer insights into detecting fraudulent transactions. Gaussian Naive Bayes provides a baseline with its probabilistic approach, while Logistic Regression often delivers better performance due to its ability to model complex relationships between features. Further improvements can be achieved by addressing class imbalance, tuning hyperparameters, and using cross-validation to ensure robustness.\n",
    "\n",
    "By carefully preprocessing the data, engineering relevant features, and rigorously evaluating the models, this project demonstrates an effective approach to building a fraud detection system that can accurately identify suspicious transactions.\n"
   ]
  },
  {
   "cell_type": "markdown",
   "id": "2d2d0b4941a88bfa",
   "metadata": {
    "collapsed": false
   },
   "source": [
    "# 5. What Are the Key Factors That Predict Fraudulent Customer?\n",
    "Key factors include:\n",
    "\n",
    "Transaction Amount: Higher amounts may indicate fraud.\n",
    "Balance Changes: Large differences in balances.\n",
    "Transaction Type: Certain types (e.g., 'TRANSFER', 'CASH_OUT') could be more fraudulent.\n",
    "New Features: The engineered features like deltaOrig and deltaDest."
   ]
  },
  {
   "cell_type": "markdown",
   "id": "f6f7f3f176eb3c78",
   "metadata": {
    "collapsed": false
   },
   "source": [
    "# 6. Do These Factors Make Sense? If Yes, How? If Not, How Not?\n",
    "Yes, these factors make sense:\n",
    "\n",
    "Transaction Amount: Fraudsters often try to move large sums quickly.\n",
    "Balance Changes: Significant changes can signal fraudulent activities.\n",
    "Transaction Type: Fraudsters might prefer types of transactions that are quicker or harder to trace."
   ]
  },
  {
   "cell_type": "markdown",
   "id": "b8890d355256ede7",
   "metadata": {
    "collapsed": false
   },
   "source": [
    "# 7. What Kind of Prevention Should Be Adopted While Company Update Its Infrastructure?\n",
    "The company should adopt the following preventive measures:\n",
    "\n",
    "Real-time Monitoring: Implement real-time transaction monitoring systems using the developed model.\n",
    "Enhanced Verification: Require additional verification for high-risk transactions.\n",
    "Anomaly Detection: Use anomaly detection systems to flag unusual transaction patterns.\n",
    "Regular Audits: Conduct regular audits of transaction logs to identify potential frauds."
   ]
  },
  {
   "cell_type": "markdown",
   "id": "55e9ea8f8c5e097a",
   "metadata": {
    "collapsed": false
   },
   "source": [
    "# 8. Assuming These Actions Have Been Implemented, How Would You Determine If They Work?\n",
    "To determine if the preventive measures are effective:\n",
    "\n",
    "Track Fraud Rates: Monitor the rate of detected fraud over time.\n",
    "Customer Feedback: Collect feedback from customers regarding any false positives or negative experiences.\n",
    "Performance Metrics: Evaluate the performance metrics (accuracy, precision, recall) of the fraud detection model periodically.\n",
    "A/B Testing: Implement A/B testing to compare the performance of transactions with and without the new measures.\n",
    "By continuously monitoring these indicators, the company can assess the effectiveness of the implemented measures and make necessary adjustments to improve fraud detection and prevention."
   ]
  },
  {
   "cell_type": "code",
   "execution_count": 22,
   "id": "442d09a5a2d6ea96",
   "metadata": {
    "collapsed": false,
    "ExecuteTime": {
     "end_time": "2024-05-18T11:28:18.041446800Z",
     "start_time": "2024-05-18T11:28:18.027563100Z"
    }
   },
   "outputs": [],
   "source": []
  },
  {
   "cell_type": "code",
   "execution_count": 22,
   "outputs": [],
   "source": [],
   "metadata": {
    "collapsed": false,
    "ExecuteTime": {
     "end_time": "2024-05-18T11:28:18.044699Z",
     "start_time": "2024-05-18T11:28:18.035866700Z"
    }
   },
   "id": "643318b31e730d05"
  },
  {
   "cell_type": "code",
   "execution_count": 22,
   "outputs": [],
   "source": [],
   "metadata": {
    "collapsed": false,
    "ExecuteTime": {
     "end_time": "2024-05-18T11:28:18.053238600Z",
     "start_time": "2024-05-18T11:28:18.043447600Z"
    }
   },
   "id": "a56e675529a61cb9"
  },
  {
   "cell_type": "code",
   "execution_count": null,
   "outputs": [],
   "source": [],
   "metadata": {
    "collapsed": false
   },
   "id": "15de3e690c03bd52"
  }
 ],
 "metadata": {
  "kernelspec": {
   "display_name": "Python 3 (ipykernel)",
   "language": "python",
   "name": "python3"
  },
  "language_info": {
   "codemirror_mode": {
    "name": "ipython",
    "version": 3
   },
   "file_extension": ".py",
   "mimetype": "text/x-python",
   "name": "python",
   "nbconvert_exporter": "python",
   "pygments_lexer": "ipython3",
   "version": "3.12.2"
  }
 },
 "nbformat": 4,
 "nbformat_minor": 5
}
